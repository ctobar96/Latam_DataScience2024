{
 "cells": [
  {
   "cell_type": "markdown",
   "metadata": {},
   "source": [
    "# **<center style=\"color: green;\">Desafío - Transformación y manipulación de datos (Parte II)</center>**\n",
    "\n",
    "### **Nombre:** Cristian Tobar Morales ###\n",
    "### **Curso:** Programación con Python para el análisis de datos (G101) ###"
   ]
  },
  {
   "cell_type": "markdown",
   "metadata": {},
   "source": [
    "### **Descripción**\n",
    "La **empresa ADL** se dedica a la venta de productos a nivel regional en los Estados Unidos,\n",
    "con equipos de ventas que operan en diferentes estados. La compañía ha establecido un\n",
    "sistema de comisiones para incentivar a sus equipos de ventas a preferir la venta de\n",
    "productos de alto margen antes que los de bajo margen de utilidad.\n",
    "Como Analista de Datos, le solicitan analizar información sobre las ventas realizadas por\n",
    "los equipos de ventas de ADL, incluyendo detalles sobre los productos vendidos, los\n",
    "clientes, las fechas de los pedidos y los plazos de entrega.\n",
    "Para resolver este desafío deberás cargar datos desde Hojas de Excel del archivo\n",
    "US_Regional_Sales_Data.xlsx. En base a esto, debe generar una visualización de datos\n",
    "como la que se muestra en las hojas Reporte1 y Reporte2 del archivo reporte.xlsx.\n",
    "Para cumplir con lo solicitado, puedes aplicar los siguientes pasos:"
   ]
  },
  {
   "cell_type": "markdown",
   "metadata": {},
   "source": [
    "1. Carga los datos de cada pestaña del archivo US_Regional_Sales_Data.xlsx en un\n",
    "DataFrame independiente. (hint: Puedes obtener los nombres de las hojas usando\n",
    "pd.ExcelFile(archivo).sheet_names)"
   ]
  },
  {
   "cell_type": "code",
   "execution_count": null,
   "metadata": {},
   "outputs": [
    {
     "name": "stdout",
     "output_type": "stream",
     "text": [
      "DataFrame para la hoja: Sales Orders Sheet\n",
      "DataFrame para la hoja: Customers Sheet\n",
      "DataFrame para la hoja: Store Locations Sheet\n",
      "DataFrame para la hoja: Products Sheet\n",
      "DataFrame para la hoja: Sales Team Sheet\n"
     ]
    }
   ],
   "source": [
    "# Importar libreria\n",
    "import pandas as pd\n",
    "\n",
    "# Ruta del archivo\n",
    "ar = \"../Desafío_Transformación_Manipulación_Datos/db/US_Regional_Sales_Data.xlsx\"\n",
    "\n",
    "# Nombre de de las hojas\n",
    "nombre_hojas = pd.ExcelFile(ar).sheet_names\n",
    "\n",
    "#Se crea una diccionario para almacenar los Dataframe\n",
    "dataframes = {}\n",
    "\n",
    "#Cargar cada hoja al diccionario\n",
    "for hoja in nombre_hojas:\n",
    "    dataframes[hoja] = pd.read_excel(ar, sheet_name=hoja)\n",
    "\n",
    "# Mostrar los nombres de los DataFrames\n",
    "for nombre_hoja, df in dataframes.items():\n",
    "    print(f'DataFrame para la hoja: {nombre_hoja}')"
   ]
  },
  {
   "cell_type": "markdown",
   "metadata": {},
   "source": [
    "2. Cruza todos los DataFrames usando validación many_to_one, y guarda el resultado\n",
    "en una nueva variable llamada df_base."
   ]
  },
  {
   "cell_type": "code",
   "execution_count": 12,
   "metadata": {},
   "outputs": [
    {
     "data": {
      "text/html": [
       "<div>\n",
       "<style scoped>\n",
       "    .dataframe tbody tr th:only-of-type {\n",
       "        vertical-align: middle;\n",
       "    }\n",
       "\n",
       "    .dataframe tbody tr th {\n",
       "        vertical-align: top;\n",
       "    }\n",
       "\n",
       "    .dataframe thead th {\n",
       "        text-align: right;\n",
       "    }\n",
       "</style>\n",
       "<table border=\"1\" class=\"dataframe\">\n",
       "  <thead>\n",
       "    <tr style=\"text-align: right;\">\n",
       "      <th></th>\n",
       "      <th>OrderNumber</th>\n",
       "      <th>Sales Channel</th>\n",
       "      <th>WarehouseCode</th>\n",
       "      <th>ProcuredDate</th>\n",
       "      <th>OrderDate</th>\n",
       "      <th>ShipDate</th>\n",
       "      <th>DeliveryDate</th>\n",
       "      <th>CurrencyCode</th>\n",
       "      <th>_SalesTeamID</th>\n",
       "      <th>_CustomerID</th>\n",
       "      <th>...</th>\n",
       "      <th>AreaCode</th>\n",
       "      <th>Population</th>\n",
       "      <th>Household Income</th>\n",
       "      <th>Median Income</th>\n",
       "      <th>Land Area</th>\n",
       "      <th>Water Area</th>\n",
       "      <th>Time Zone</th>\n",
       "      <th>Product Name</th>\n",
       "      <th>Sales Team</th>\n",
       "      <th>Region</th>\n",
       "    </tr>\n",
       "  </thead>\n",
       "  <tbody>\n",
       "    <tr>\n",
       "      <th>0</th>\n",
       "      <td>SO - 000101</td>\n",
       "      <td>In-Store</td>\n",
       "      <td>WARE-UHY1004</td>\n",
       "      <td>2017-12-31</td>\n",
       "      <td>2018-05-31</td>\n",
       "      <td>2018-06-14</td>\n",
       "      <td>2018-06-19</td>\n",
       "      <td>USD</td>\n",
       "      <td>6</td>\n",
       "      <td>15</td>\n",
       "      <td>...</td>\n",
       "      <td>631</td>\n",
       "      <td>213776</td>\n",
       "      <td>68789</td>\n",
       "      <td>80327</td>\n",
       "      <td>135481314</td>\n",
       "      <td>160302131</td>\n",
       "      <td>America/New York</td>\n",
       "      <td>Dining Furniture</td>\n",
       "      <td>Joshua Bennett</td>\n",
       "      <td>Northeast</td>\n",
       "    </tr>\n",
       "    <tr>\n",
       "      <th>1</th>\n",
       "      <td>SO - 000102</td>\n",
       "      <td>Online</td>\n",
       "      <td>WARE-NMK1003</td>\n",
       "      <td>2017-12-31</td>\n",
       "      <td>2018-05-31</td>\n",
       "      <td>2018-06-22</td>\n",
       "      <td>2018-07-02</td>\n",
       "      <td>USD</td>\n",
       "      <td>14</td>\n",
       "      <td>20</td>\n",
       "      <td>...</td>\n",
       "      <td>913</td>\n",
       "      <td>186515</td>\n",
       "      <td>74830</td>\n",
       "      <td>72463</td>\n",
       "      <td>194562941</td>\n",
       "      <td>1309517</td>\n",
       "      <td>America/Chicago</td>\n",
       "      <td>Wreaths</td>\n",
       "      <td>Paul Holmes</td>\n",
       "      <td>Midwest</td>\n",
       "    </tr>\n",
       "    <tr>\n",
       "      <th>2</th>\n",
       "      <td>SO - 000103</td>\n",
       "      <td>Distributor</td>\n",
       "      <td>WARE-UHY1004</td>\n",
       "      <td>2017-12-31</td>\n",
       "      <td>2018-05-31</td>\n",
       "      <td>2018-06-21</td>\n",
       "      <td>2018-07-01</td>\n",
       "      <td>USD</td>\n",
       "      <td>21</td>\n",
       "      <td>16</td>\n",
       "      <td>...</td>\n",
       "      <td>734</td>\n",
       "      <td>117070</td>\n",
       "      <td>47179</td>\n",
       "      <td>55990</td>\n",
       "      <td>72727009</td>\n",
       "      <td>2254528</td>\n",
       "      <td>America/Detroit</td>\n",
       "      <td>Stemware</td>\n",
       "      <td>Samuel Fowler</td>\n",
       "      <td>Midwest</td>\n",
       "    </tr>\n",
       "    <tr>\n",
       "      <th>3</th>\n",
       "      <td>SO - 000104</td>\n",
       "      <td>Wholesale</td>\n",
       "      <td>WARE-NMK1003</td>\n",
       "      <td>2017-12-31</td>\n",
       "      <td>2018-05-31</td>\n",
       "      <td>2018-06-02</td>\n",
       "      <td>2018-06-07</td>\n",
       "      <td>USD</td>\n",
       "      <td>28</td>\n",
       "      <td>48</td>\n",
       "      <td>...</td>\n",
       "      <td>203</td>\n",
       "      <td>130322</td>\n",
       "      <td>49771</td>\n",
       "      <td>37192</td>\n",
       "      <td>48407373</td>\n",
       "      <td>3739487</td>\n",
       "      <td>America/New York</td>\n",
       "      <td>Accessories</td>\n",
       "      <td>Carlos Miller</td>\n",
       "      <td>West</td>\n",
       "    </tr>\n",
       "    <tr>\n",
       "      <th>4</th>\n",
       "      <td>SO - 000105</td>\n",
       "      <td>Distributor</td>\n",
       "      <td>WARE-NMK1003</td>\n",
       "      <td>2018-04-10</td>\n",
       "      <td>2018-05-31</td>\n",
       "      <td>2018-06-16</td>\n",
       "      <td>2018-06-26</td>\n",
       "      <td>USD</td>\n",
       "      <td>22</td>\n",
       "      <td>49</td>\n",
       "      <td>...</td>\n",
       "      <td>203</td>\n",
       "      <td>108802</td>\n",
       "      <td>40213</td>\n",
       "      <td>40467</td>\n",
       "      <td>73880017</td>\n",
       "      <td>1086045</td>\n",
       "      <td>America/New York</td>\n",
       "      <td>Candles</td>\n",
       "      <td>Joe Price</td>\n",
       "      <td>Northeast</td>\n",
       "    </tr>\n",
       "  </tbody>\n",
       "</table>\n",
       "<p>5 rows × 34 columns</p>\n",
       "</div>"
      ],
      "text/plain": [
       "   OrderNumber Sales Channel WarehouseCode ProcuredDate  OrderDate   ShipDate  \\\n",
       "0  SO - 000101      In-Store  WARE-UHY1004   2017-12-31 2018-05-31 2018-06-14   \n",
       "1  SO - 000102        Online  WARE-NMK1003   2017-12-31 2018-05-31 2018-06-22   \n",
       "2  SO - 000103   Distributor  WARE-UHY1004   2017-12-31 2018-05-31 2018-06-21   \n",
       "3  SO - 000104     Wholesale  WARE-NMK1003   2017-12-31 2018-05-31 2018-06-02   \n",
       "4  SO - 000105   Distributor  WARE-NMK1003   2018-04-10 2018-05-31 2018-06-16   \n",
       "\n",
       "  DeliveryDate CurrencyCode  _SalesTeamID  _CustomerID  ...  AreaCode  \\\n",
       "0   2018-06-19          USD             6           15  ...       631   \n",
       "1   2018-07-02          USD            14           20  ...       913   \n",
       "2   2018-07-01          USD            21           16  ...       734   \n",
       "3   2018-06-07          USD            28           48  ...       203   \n",
       "4   2018-06-26          USD            22           49  ...       203   \n",
       "\n",
       "   Population  Household Income  Median Income  Land Area  Water Area  \\\n",
       "0      213776             68789          80327  135481314   160302131   \n",
       "1      186515             74830          72463  194562941     1309517   \n",
       "2      117070             47179          55990   72727009     2254528   \n",
       "3      130322             49771          37192   48407373     3739487   \n",
       "4      108802             40213          40467   73880017     1086045   \n",
       "\n",
       "          Time Zone      Product Name      Sales Team     Region  \n",
       "0  America/New York  Dining Furniture  Joshua Bennett  Northeast  \n",
       "1   America/Chicago           Wreaths     Paul Holmes    Midwest  \n",
       "2   America/Detroit          Stemware   Samuel Fowler    Midwest  \n",
       "3  America/New York       Accessories   Carlos Miller       West  \n",
       "4  America/New York           Candles       Joe Price  Northeast  \n",
       "\n",
       "[5 rows x 34 columns]"
      ]
     },
     "execution_count": 12,
     "metadata": {},
     "output_type": "execute_result"
    }
   ],
   "source": [
    "# Los dataframes\n",
    "df_sales_orders = dataframes['Sales Orders Sheet']\n",
    "df_customers = dataframes['Customers Sheet']\n",
    "df_store_locations = dataframes['Store Locations Sheet']\n",
    "df_products = dataframes['Products Sheet']\n",
    "df_sales_team = dataframes['Sales Team Sheet']\n",
    "\n",
    "# Cruzar los dataframes\n",
    "# 1: Se cruza df_sales_orders con df_customers usando 'CustomerID'\n",
    "df_base = df_sales_orders.merge(df_customers, on = '_CustomerID', validate = 'many_to_one')\n",
    "\n",
    "# Luego cruzamos el resultado con df_store_locations usando 'StoreID'\n",
    "df_base = df_base.merge(df_store_locations, on = '_StoreID', validate = 'many_to_one')\n",
    "\n",
    "# Luego cruzamos el resultado con df_products usando 'ProductID'\n",
    "df_base = df_base.merge(df_products, on = '_ProductID', validate = 'many_to_one')\n",
    "\n",
    "# Finalmente, cruzamos el resultado con df_sales_team usando 'SalesPersonID'\n",
    "df_base = df_base.merge(df_sales_team, on = '_SalesTeamID', validate = 'many_to_one')\n",
    "\n",
    "# Mostrar los resultados\n",
    "df_base.head()\n"
   ]
  },
  {
   "cell_type": "markdown",
   "metadata": {},
   "source": [
    "3. Agrega las siguientes columnas a df_ base:"
   ]
  },
  {
   "cell_type": "code",
   "execution_count": 16,
   "metadata": {},
   "outputs": [
    {
     "name": "stdout",
     "output_type": "stream",
     "text": [
      "Index(['OrderNumber', 'Sales Channel', 'WarehouseCode', 'ProcuredDate',\n",
      "       'OrderDate', 'ShipDate', 'DeliveryDate', 'CurrencyCode', '_SalesTeamID',\n",
      "       '_CustomerID', '_StoreID', '_ProductID', 'Order Quantity',\n",
      "       'Discount Applied', 'Unit Price', 'Unit Cost', 'Customer Names',\n",
      "       'City Name', 'County', 'StateCode', 'State', 'Type', 'Latitude',\n",
      "       'Longitude', 'AreaCode', 'Population', 'Household Income',\n",
      "       'Median Income', 'Land Area', 'Water Area', 'Time Zone', 'Product Name',\n",
      "       'Sales Team', 'Region'],\n",
      "      dtype='object')\n"
     ]
    }
   ],
   "source": [
    "# Verificar los nombres de las columnas en df_base\n",
    "print(df_base.columns)\n"
   ]
  },
  {
   "cell_type": "code",
   "execution_count": 17,
   "metadata": {},
   "outputs": [
    {
     "name": "stdout",
     "output_type": "stream",
     "text": [
      "El DataFrame df_base tiene 34 columnas.\n"
     ]
    }
   ],
   "source": [
    "# Contar el número de columnas en df_base\n",
    "num_columnas = len(df_base.columns)\n",
    "print(f'El DataFrame df_base tiene {num_columnas} columnas.')\n"
   ]
  },
  {
   "cell_type": "code",
   "execution_count": 18,
   "metadata": {},
   "outputs": [
    {
     "name": "stdout",
     "output_type": "stream",
     "text": [
      "OrderDate:  datetime64[ns]\n",
      "ProcuredDate:  datetime64[ns]\n",
      "ShipDate:  datetime64[ns]\n",
      "DeliveryDate:  datetime64[ns]\n"
     ]
    }
   ],
   "source": [
    "# Verificar si las columnas son del tipo datetime\n",
    "print(\"OrderDate: \", df_base['OrderDate'].dtype)\n",
    "print(\"ProcuredDate: \", df_base['ProcuredDate'].dtype)\n",
    "print(\"ShipDate: \", df_base['ShipDate'].dtype)\n",
    "print(\"DeliveryDate: \", df_base['DeliveryDate'].dtype)"
   ]
  },
  {
   "cell_type": "code",
   "execution_count": 19,
   "metadata": {},
   "outputs": [],
   "source": [
    "# Se agrega la columna ProcurementDays\n",
    "df_base['ProcurementDays'] = df_base['OrderDate'] - df_base['ProcuredDate']\n",
    "\n",
    "# Se agrega la columna ShippingDays\n",
    "df_base['ShippingDays'] = df_base['ShipDate'] - df_base['OrderDate']\n",
    "\n",
    "# Se agrega la columna DeliveryDays\n",
    "df_base['DeliveryDays'] = df_base['DeliveryDate'] - df_base['ShipDate']\n",
    "\n",
    "# Se agrega la columna CustomerDays\n",
    "df_base['CustomerDays'] = df_base['ShippingDays'] + df_base['DeliveryDays']"
   ]
  }
 ],
 "metadata": {
  "kernelspec": {
   "display_name": "Python 3",
   "language": "python",
   "name": "python3"
  },
  "language_info": {
   "codemirror_mode": {
    "name": "ipython",
    "version": 3
   },
   "file_extension": ".py",
   "mimetype": "text/x-python",
   "name": "python",
   "nbconvert_exporter": "python",
   "pygments_lexer": "ipython3",
   "version": "3.12.4"
  }
 },
 "nbformat": 4,
 "nbformat_minor": 2
}
