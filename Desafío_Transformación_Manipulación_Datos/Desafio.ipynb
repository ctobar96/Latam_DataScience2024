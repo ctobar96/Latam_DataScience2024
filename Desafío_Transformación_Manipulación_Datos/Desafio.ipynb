{
 "cells": [
  {
   "cell_type": "markdown",
   "metadata": {},
   "source": [
    "# **<center style=\"color: green;\">Desafío - Transformación y manipulación de datos (Parte II)</center>**\n",
    "\n",
    "### **Nombre:** Cristian Tobar Morales ###\n",
    "### **Curso:** Programación con Python para el análisis de datos (G101) ###"
   ]
  },
  {
   "cell_type": "markdown",
   "metadata": {},
   "source": [
    "### **Descripción**\n",
    "La **empresa ADL** se dedica a la venta de productos a nivel regional en los Estados Unidos,\n",
    "con equipos de ventas que operan en diferentes estados. La compañía ha establecido un\n",
    "sistema de comisiones para incentivar a sus equipos de ventas a preferir la venta de\n",
    "productos de alto margen antes que los de bajo margen de utilidad.\n",
    "Como Analista de Datos, le solicitan analizar información sobre las ventas realizadas por\n",
    "los equipos de ventas de ADL, incluyendo detalles sobre los productos vendidos, los\n",
    "clientes, las fechas de los pedidos y los plazos de entrega.\n",
    "Para resolver este desafío deberás cargar datos desde Hojas de Excel del archivo\n",
    "US_Regional_Sales_Data.xlsx. En base a esto, debe generar una visualización de datos\n",
    "como la que se muestra en las hojas Reporte1 y Reporte2 del archivo reporte.xlsx.\n",
    "Para cumplir con lo solicitado, puedes aplicar los siguientes pasos:"
   ]
  },
  {
   "cell_type": "markdown",
   "metadata": {},
   "source": [
    "1. Carga los datos de cada pestaña del archivo US_Regional_Sales_Data.xlsx en un\n",
    "DataFrame independiente. (hint: Puedes obtener los nombres de las hojas usando\n",
    "pd.ExcelFile(archivo).sheet_names)"
   ]
  },
  {
   "cell_type": "code",
   "execution_count": null,
   "metadata": {},
   "outputs": [],
   "source": [
    "# Importar libreria\n",
    "import pandas as pd\n",
    "\n",
    "# Ruta del archivo\n",
    "archivo = '../Desafio/US_Regional_Sales_Data.xlsx'\n",
    "\n",
    "# Nombre de de las hojas\n",
    "nombre_hojas = pd.ExcelFile(archivo).sheet_names\n",
    "\n",
    "#Se crea una diccionario para almacenar los Dataframe\n",
    "dataframes = {}\n",
    "\n",
    "#Cargar cada hoja al diccionario\n",
    "for hoja in nombre_hojas:\n",
    "    dataframes[hoja] = pd.read_excel(archivo, sheet_name=hoja)\n",
    "\n",
    "# Mostrar los nombres de los DataFrames\n",
    "for nombre_hoja, df in dataframes.items():\n",
    "    print(f'DataFrame para la hoja: {nombre_hoja}')"
   ]
  }
 ],
 "metadata": {
  "kernelspec": {
   "display_name": "Python 3",
   "language": "python",
   "name": "python3"
  },
  "language_info": {
   "name": "python",
   "version": "3.12.4"
  }
 },
 "nbformat": 4,
 "nbformat_minor": 2
}
