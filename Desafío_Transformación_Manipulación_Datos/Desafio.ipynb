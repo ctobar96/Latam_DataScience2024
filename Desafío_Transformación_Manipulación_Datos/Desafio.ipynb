{
 "cells": [
  {
   "cell_type": "markdown",
   "metadata": {},
   "source": [
    "# **<center style=\"color: green;\">Desafío - Transformación y manipulación de datos (Parte II)</center>**\n",
    "\n",
    "### **Nombre:** Cristian Tobar Morales ###\n",
    "### **Curso:** Programación con Python para el análisis de datos (G101) ###"
   ]
  },
  {
   "cell_type": "markdown",
   "metadata": {},
   "source": [
    "### **Descripción**\n",
    "La **empresa ADL** se dedica a la venta de productos a nivel regional en los Estados Unidos,\n",
    "con equipos de ventas que operan en diferentes estados. La compañía ha establecido un\n",
    "sistema de comisiones para incentivar a sus equipos de ventas a preferir la venta de\n",
    "productos de alto margen antes que los de bajo margen de utilidad.\n",
    "Como Analista de Datos, le solicitan analizar información sobre las ventas realizadas por\n",
    "los equipos de ventas de ADL, incluyendo detalles sobre los productos vendidos, los\n",
    "clientes, las fechas de los pedidos y los plazos de entrega.\n",
    "Para resolver este desafío deberás cargar datos desde Hojas de Excel del archivo\n",
    "US_Regional_Sales_Data.xlsx. En base a esto, debe generar una visualización de datos\n",
    "como la que se muestra en las hojas Reporte1 y Reporte2 del archivo reporte.xlsx.\n",
    "Para cumplir con lo solicitado, puedes aplicar los siguientes pasos:"
   ]
  },
  {
   "cell_type": "markdown",
   "metadata": {},
   "source": [
    "1. Carga los datos de cada pestaña del archivo US_Regional_Sales_Data.xlsx en un\n",
    "DataFrame independiente. (hint: Puedes obtener los nombres de las hojas usando\n",
    "pd.ExcelFile(archivo).sheet_names)"
   ]
  },
  {
   "cell_type": "code",
   "execution_count": null,
   "metadata": {},
   "outputs": [
    {
     "name": "stdout",
     "output_type": "stream",
     "text": [
      "DataFrame para la hoja: Sales Orders Sheet\n",
      "DataFrame para la hoja: Customers Sheet\n",
      "DataFrame para la hoja: Store Locations Sheet\n",
      "DataFrame para la hoja: Products Sheet\n",
      "DataFrame para la hoja: Sales Team Sheet\n"
     ]
    }
   ],
   "source": [
    "# Importar libreria\n",
    "import pandas as pd\n",
    "\n",
    "# Ruta del archivo\n",
    "ar = \"../Desafío_Transformación_Manipulación_Datos/db/US_Regional_Sales_Data.xlsx\"\n",
    "\n",
    "# Nombre de de las hojas\n",
    "nombre_hojas = pd.ExcelFile(ar).sheet_names\n",
    "\n",
    "#Se crea una diccionario para almacenar los Dataframe\n",
    "dataframes = {}\n",
    "\n",
    "#Cargar cada hoja al diccionario\n",
    "for hoja in nombre_hojas:\n",
    "    dataframes[hoja] = pd.read_excel(ar, sheet_name=hoja)\n",
    "\n",
    "# Mostrar los nombres de los DataFrames\n",
    "for nombre_hoja, df in dataframes.items():\n",
    "    print(f'DataFrame para la hoja: {nombre_hoja}')"
   ]
  },
  {
   "cell_type": "markdown",
   "metadata": {},
   "source": [
    "2. Cruza todos los DataFrames usando validación many_to_one, y guarda el resultado\n",
    "en una nueva variable llamada df_base."
   ]
  },
  {
   "cell_type": "code",
   "execution_count": 1,
   "metadata": {},
   "outputs": [
    {
     "ename": "NameError",
     "evalue": "name 'dataframes' is not defined",
     "output_type": "error",
     "traceback": [
      "\u001b[1;31m---------------------------------------------------------------------------\u001b[0m",
      "\u001b[1;31mNameError\u001b[0m                                 Traceback (most recent call last)",
      "Cell \u001b[1;32mIn[1], line 2\u001b[0m\n\u001b[0;32m      1\u001b[0m \u001b[38;5;66;03m# Los dataframes\u001b[39;00m\n\u001b[1;32m----> 2\u001b[0m df_sales_orders \u001b[38;5;241m=\u001b[39m dataframes[\u001b[38;5;124m'\u001b[39m\u001b[38;5;124mSales Orders Sheet\u001b[39m\u001b[38;5;124m'\u001b[39m]\n\u001b[0;32m      3\u001b[0m df_customers \u001b[38;5;241m=\u001b[39m dataframes[\u001b[38;5;124m'\u001b[39m\u001b[38;5;124mCustomers Sheet\u001b[39m\u001b[38;5;124m'\u001b[39m]\n\u001b[0;32m      4\u001b[0m df_store_locations \u001b[38;5;241m=\u001b[39m dataframes[\u001b[38;5;124m'\u001b[39m\u001b[38;5;124mStore Locations Sheet\u001b[39m\u001b[38;5;124m'\u001b[39m]\n",
      "\u001b[1;31mNameError\u001b[0m: name 'dataframes' is not defined"
     ]
    }
   ],
   "source": [
    "# Los dataframes\n",
    "df_sales_orders = dataframes['Sales Orders Sheet']\n",
    "df_customers = dataframes['Customers Sheet']\n",
    "df_store_locations = dataframes['Store Locations Sheet']\n",
    "df_products = dataframes['Products Sheet']\n",
    "df_sales_team = dataframes['Sales Team Sheet']\n",
    "\n",
    "# Cruzar los dataframes\n",
    "# 1: Se cruza df_sales_orders con df_customers usando 'CustomerID'\n",
    "df_base = df_sales_orders.merge(df_customers, on = '_CustomerID', validate = 'many_to_one')\n",
    "\n",
    "# Luego cruzamos el resultado con df_store_locations usando 'StoreID'\n",
    "df_base = df_base.merge(df_store_locations, on = '_StoreID', validate = 'many_to_one')\n",
    "\n",
    "# Luego cruzamos el resultado con df_products usando 'ProductID'\n",
    "df_base = df_base.merge(df_products, on = '_ProductID', validate = 'many_to_one')\n",
    "\n",
    "# Finalmente, cruzamos el resultado con df_sales_team usando 'SalesPersonID'\n",
    "df_base = df_base.merge(df_sales_team, on = '_SalesTeamID', validate = 'many_to_one')\n",
    "\n",
    "# Mostrar los resultados\n",
    "df_base.head()\n"
   ]
  }
 ],
 "metadata": {
  "kernelspec": {
   "display_name": "Python 3",
   "language": "python",
   "name": "python3"
  },
  "language_info": {
   "codemirror_mode": {
    "name": "ipython",
    "version": 3
   },
   "file_extension": ".py",
   "mimetype": "text/x-python",
   "name": "python",
   "nbconvert_exporter": "python",
   "pygments_lexer": "ipython3",
   "version": "3.12.4"
  }
 },
 "nbformat": 4,
 "nbformat_minor": 2
}
