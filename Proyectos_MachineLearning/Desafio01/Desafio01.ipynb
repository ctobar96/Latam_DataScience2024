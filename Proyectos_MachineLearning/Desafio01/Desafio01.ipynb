{
 "cells": [
  {
   "cell_type": "markdown",
   "id": "c109f6a4",
   "metadata": {},
   "source": [
    "# **<center style=\"color: green;\">Desafío - Introducción al Machine Learning</center>**\n",
    "\n",
    "### **Nombre:** Cristian Tobar Morales ###\n",
    "### **Curso:** Machine Learning ###"
   ]
  },
  {
   "cell_type": "markdown",
   "id": "76c1ae68",
   "metadata": {},
   "source": [
    "# **Descripción**\n",
    "El siguiente desafío consta de dos partes: una de 5 preguntas conceptuales, y otra en la que\n",
    "pondremos a prueba tus habilidades en la implementación de modelos de Machine\n",
    "Learning, específicamente en el área de regresión lineal. El objetivo es desarrollar un modelo\n",
    "que pueda predecir el precio de las casas en función de sus características.\n"
   ]
  },
  {
   "cell_type": "markdown",
   "id": "0ed8299f",
   "metadata": {},
   "source": [
    "## Parte I\n",
    "Responde las siguientes preguntas:"
   ]
  },
  {
   "cell_type": "markdown",
   "id": "5313bfcc",
   "metadata": {},
   "source": [
    "1. ¿Cuál es la diferencia entre el aprendizaje supervisado y el aprendizaje no\n",
    "supervisado?"
   ]
  },
  {
   "cell_type": "markdown",
   "id": "4d2e1784",
   "metadata": {},
   "source": [
    "2. En la industria de la salud, a menudo se utiliza el machine learning para predecir la\n",
    "probabilidad de enfermedades o condiciones médicas en función de diferentes\n",
    "variables de entrada, como síntomas, antecedentes médicos y factores de estilo de\n",
    "vida. Imagina que tienes un conjunto de datos que contiene información de\n",
    "pacientes y su diagnóstico (enfermo/no enfermo). ¿Qué tipo de aprendizaje\n",
    "utilizarías para construir un modelo predictivo?"
   ]
  },
  {
   "cell_type": "markdown",
   "id": "27454280",
   "metadata": {},
   "source": [
    "3. ¿Por qué razón es necesario dividir el set de datos en 2 set de datos al momento de\n",
    "realizar algún modelamiento supervisado? ¿Cuáles son los 2 set de datos y cúal es la\n",
    "función de cada uno?"
   ]
  },
  {
   "cell_type": "markdown",
   "id": "c5237a5d",
   "metadata": {},
   "source": [
    "4. ¿Cuál es la principal diferencia en el modelamiento de la regresión lineal para un\n",
    "enfoque estadístico y un enfoque de aprendizaje de máquinas?"
   ]
  },
  {
   "cell_type": "markdown",
   "id": "6beb460a",
   "metadata": {},
   "source": [
    "5. Escoge una industria de acuerdo a su área de interés, rubro de trabajo o área de\n",
    "estudios (por ejemplo, salud, telecomunicaciones, retail, medioambiente, etc).\n",
    "Menciona al menos 1 aplicación en esa industria de:\n",
    "a. Aprendizaje Supervisado (Clasificación)\n",
    "b. Aprendizaje Supervisado (Regresión)\n",
    "c. Aprendizaje No Supervisado (Clustering)\n",
    "d. Aprendizaje No Supervisado (Reducción de dimensionalidad)"
   ]
  },
  {
   "cell_type": "markdown",
   "id": "b8937b16",
   "metadata": {},
   "source": [
    "## Parte II\n",
    "En este ejemplo, utilizaremos Python y la biblioteca Scikit-learn para construir y entrenar\n",
    "nuestro modelo de regresión lineal. A continuación, se presenta un paso a paso para llevar a\n",
    "cabo este desafío:"
   ]
  }
 ],
 "metadata": {
  "language_info": {
   "name": "python"
  }
 },
 "nbformat": 4,
 "nbformat_minor": 5
}
