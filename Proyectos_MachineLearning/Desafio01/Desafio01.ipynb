{
 "cells": [
  {
   "cell_type": "markdown",
   "id": "c109f6a4",
   "metadata": {},
   "source": [
    "# **<center style=\"color: green;\">Desafío - Introducción al Machine Learning</center>**\n",
    "\n",
    "### **Nombre:** Cristian Tobar Morales ###\n",
    "### **Curso:** Machine Learning ###"
   ]
  },
  {
   "cell_type": "markdown",
   "id": "76c1ae68",
   "metadata": {},
   "source": [
    "# **Descripción**\n",
    "El siguiente desafío consta de dos partes: una de 5 preguntas conceptuales, y otra en la que\n",
    "pondremos a prueba tus habilidades en la implementación de modelos de Machine\n",
    "Learning, específicamente en el área de regresión lineal. El objetivo es desarrollar un modelo\n",
    "que pueda predecir el precio de las casas en función de sus características.\n"
   ]
  },
  {
   "cell_type": "markdown",
   "id": "0ed8299f",
   "metadata": {},
   "source": [
    "## Parte I\n",
    "Responde las siguientes preguntas:"
   ]
  },
  {
   "cell_type": "markdown",
   "id": "5313bfcc",
   "metadata": {},
   "source": [
    "**1. ¿Cuál es la diferencia entre el aprendizaje supervisado y el aprendizaje no supervisado?** \n",
    "\n",
    "-\tEl `aprendizaje supervisado` busca descubrir la relación y/o patrones existentes entre variables de entrada y de salida, mientras el `no supervisado` busca descubrir relaciones entre variables de entrada sin una guía del aprendizaje.\n",
    "\n",
    "-\tEl `supervisado` aplica para set de datos etiquetados, sin embargo, el `no supervisado` para set de datos sin etiquetas. \n",
    "\n",
    "-\t*En relación al tipo de aprendizaje:*  \n",
    "El `supervisado`, puede realizar tareas de clasificación y regresión.  \n",
    "EL `no supervisado`, realiza tareas de reducción de dimensiones y clustering o agrupamiento. \n",
    "\n",
    "-\t*Métricas de evaluación:*  \n",
    "El `supervisado`: Accuracy, precisión, recall, F1-score, Roc-AUC, R2, MAE, MSE, RMSE y MAPE.  \n",
    "El `no supervisado`: Coeficiente de Silhouette, inercia y Davies-Bouldin index. "
   ]
  },
  {
   "cell_type": "markdown",
   "id": "4d2e1784",
   "metadata": {},
   "source": [
    "**2. En la industria de la salud, a menudo se utiliza el machine learning para predecir la probabilidad de enfermedades o condiciones médicas en función de diferentes variables de entrada, como síntomas, antecedentes médicos y factores de estilo de vida. Imagina que tienes un conjunto de datos que contiene información de pacientes y su diagnóstico (enfermo/no enfermo). ¿Qué tipo de aprendizaje utilizarías para construir un modelo predictivo?**\n",
    "\n",
    "El mejor método idóneo para construir un modelo predictivo mediante un diagnóstico de enfermo o no enfermo, es mediante un aprendizaje supervisado con el método de clasificación.\n",
    "\n",
    "Se selecciona el aprendizaje supervisado, puesto que cuenta con variables x e y.\n",
    "-\tX: Síntomas, antecediste médicos estilo de vida. \n",
    "-\tY: Enfermo o no enfermo. \n",
    "\n",
    "La variable y, es del tipo discreta, la cual es recomendable a utilizar el método de clasificación. "
   ]
  },
  {
   "cell_type": "markdown",
   "id": "27454280",
   "metadata": {},
   "source": [
    "**3. ¿Por qué razón es necesario dividir el set de datos en 2 set de datos al momento de realizar algún modelamiento supervisado? ¿Cuáles son los 2 set de datos y cúal es la función de cada uno?**\n",
    "\n",
    "Es necesario dividir el set de datos para evitar los errores comunes como sobreajuste o evaluar con los mismos datos con los que se entreno el modelo, el objetivo principal es para poder estimar los parámetros de algoritmo en el test de entrenamiento y testear cual es el poder predictivo del algoritmo en datos nuevos, no visto anteriormente. "
   ]
  },
  {
   "cell_type": "markdown",
   "id": "c5237a5d",
   "metadata": {},
   "source": [
    "**4. ¿Cuál es la principal diferencia en el modelamiento de la regresión lineal para un enfoque estadístico y un enfoque de aprendizaje de máquinas?**\n",
    "\n",
    "La diferencia principal radica principalmente en la conclusión final del estudio, puesto que el enfoque estadístico tiene como objetivo estimar y probar hipótesis, y realizar test, mientras que en machine learning el foco principal es minimizar el error en los datos. "
   ]
  },
  {
   "cell_type": "markdown",
   "id": "6beb460a",
   "metadata": {},
   "source": [
    "**5. Escoge una industria de acuerdo a su área de interés, rubro de trabajo o área de estudios (por ejemplo, salud, telecomunicaciones, retail, medioambiente, etc).**\n",
    "\n",
    "\n",
    "El área de interés o rubro de trabajo corresponde al área de la salud. \n",
    "\n",
    "Menciona al menos 1 aplicación en esa industria de:\n",
    "\n",
    "*a.\tAprendizaje Supervisado (Clasificación)*  \n",
    "Para predecir si un paciente está enfermo o no.\n",
    "\n",
    "*b.\tAprendizaje Supervisado (Regresión)*  \n",
    "Indicar que variables (Presión, actividad física, edad, IMC, fumar, etc.) tiene un efecto significativo en la probabilidad de una enfermedad. \n",
    "\n",
    "*c.\tAprendizaje No Supervisado (Clustering)*  \n",
    "Agrupamiento de pacientes con perfiles fisiológicos o estilos de vida similares, permitiendo diseñar planes de prevención y tratamiento anticipados. \n",
    "\n",
    "*d.\tAprendizaje No Supervisado (Reducción de dimensionalidad)*  \n",
    "Estudiar historias clínicas de pacientes (Edad, signos vitales, test de laboratorio, etc.), la cual consta de muchas variables de estudio. "
   ]
  },
  {
   "cell_type": "markdown",
   "id": "b8937b16",
   "metadata": {},
   "source": [
    "## Parte II\n",
    "En este ejemplo, utilizaremos Python y la biblioteca Scikit-learn para construir y entrenar\n",
    "nuestro modelo de regresión lineal. A continuación, se presenta un paso a paso para llevar a\n",
    "cabo este desafío:"
   ]
  }
 ],
 "metadata": {
  "language_info": {
   "name": "python"
  }
 },
 "nbformat": 4,
 "nbformat_minor": 5
}
