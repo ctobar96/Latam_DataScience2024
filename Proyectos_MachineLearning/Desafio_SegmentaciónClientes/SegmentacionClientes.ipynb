{
 "cells": [
  {
   "cell_type": "markdown",
   "id": "7c8ca78b",
   "metadata": {},
   "source": [
    "# **<center style=\"color: green;\">Desafío - Segmentación de Clientes</center>**\n",
    "\n",
    "#### **Nombre:** Cristian Tobar Morales ###\n",
    "#### **Curso:** Machine Learning ###"
   ]
  },
  {
   "cell_type": "markdown",
   "id": "5f2d1f88",
   "metadata": {},
   "source": [
    "# **Descripción**\n",
    "En el apasionante mundo del comercio minorista, el supermercado \"FreshMart\" se ha\n",
    "convertido en el lugar preferido para realizar las compras del día a día. Con el objetivo de\n",
    "brindar una experiencia de compra más personalizada, \"FreshMart\" ha decidido emplear\n",
    "técnicas de aprendizaje no supervisado para segmentar a sus clientes y diseñar estrategias\n",
    "de marketing adaptadas a sus necesidades y preferencias.\n",
    "\n",
    "Con un amplio conjunto de datos recopilados durante el último año, que incluyen\n",
    "información de compras y perfiles de clientes, \"FreshMart\" cuenta con una valiosa fuente de\n",
    "información para el análisis. Ahora, el desafío radica en aplicar técnicas de clustering\n",
    "innovadoras para descubrir segmentos de clientes que comparten patrones de compra\n",
    "similares y comportamientos de consumo."
   ]
  },
  {
   "cell_type": "markdown",
   "id": "b8b1ab9d",
   "metadata": {},
   "source": [
    "## objetivo principal de la segmentación de clientes\n",
    "Identificar grupos específicos dentro\n",
    "de la base de clientes de \"FreshMart\" que puedan beneficiarse de promociones y campañas\n",
    "de marketing personalizadas. La idea es poder caracterizar estos segmentos y ponerle un\n",
    "nombre a cada uno."
   ]
  },
  {
   "cell_type": "markdown",
   "id": "439146a8",
   "metadata": {},
   "source": [
    "## objetivo final de \"FreshMart\"\n",
    "Es mejorar la satisfacción del cliente y optimizar la\n",
    "rentabilidad del supermercado. Al emplear técnicas de clustering avanzadas y aprovechar\n",
    "los datos históricos disponibles, \"FreshMart\" estará en condiciones de ofrecer una\n",
    "experiencia de compra más personalizada y adaptada a las necesidades de cada segmento\n",
    "de clientes. Esto consolida la fidelidad de los clientes existentes y atrae a nuevos clientes\n",
    "que buscan un supermercado que se preocupe por sus preferencias individuales."
   ]
  },
  {
   "cell_type": "markdown",
   "id": "13f79b01",
   "metadata": {},
   "source": [
    "## Descripción de los atributos \n",
    "La data entregada esta a nivel de boleta y tiene los siguientes campos:\n",
    "- `InvoiceNo:` Nro identificador de cada boleta\n",
    "- `InvoiceDate:` Fecha de la boleta\n",
    "- `CustomerId:` Nro identificador de cada usuario\n",
    "- `Quantity:` Cantidad de unidades totales compradas\n",
    "- `price_total:` Precio total de la boleta\n",
    "- `StockCode:` Cantidad de unidades diferentes compradas"
   ]
  },
  {
   "cell_type": "markdown",
   "id": "513934bb",
   "metadata": {},
   "source": [
    "# **Desarrollo**"
   ]
  },
  {
   "cell_type": "markdown",
   "id": "81adee7b",
   "metadata": {},
   "source": [
    "## Cargar el DataSet y Exploración inicial"
   ]
  },
  {
   "cell_type": "markdown",
   "id": "fc49bcc8",
   "metadata": {},
   "source": [
    "### Importar librerías "
   ]
  },
  {
   "cell_type": "code",
   "execution_count": 1,
   "id": "c09a4c93",
   "metadata": {},
   "outputs": [],
   "source": [
    "import pandas as pd\n",
    "import matplotlib.pyplot as plt\n",
    "import seaborn as sns\n",
    "import numpy as np"
   ]
  },
  {
   "cell_type": "markdown",
   "id": "73b866f3",
   "metadata": {},
   "source": [
    "### Cargar el dataset y exploración"
   ]
  },
  {
   "cell_type": "code",
   "execution_count": 2,
   "id": "8c37eb5b",
   "metadata": {},
   "outputs": [
    {
     "data": {
      "text/html": [
       "<div>\n",
       "<style scoped>\n",
       "    .dataframe tbody tr th:only-of-type {\n",
       "        vertical-align: middle;\n",
       "    }\n",
       "\n",
       "    .dataframe tbody tr th {\n",
       "        vertical-align: top;\n",
       "    }\n",
       "\n",
       "    .dataframe thead th {\n",
       "        text-align: right;\n",
       "    }\n",
       "</style>\n",
       "<table border=\"1\" class=\"dataframe\">\n",
       "  <thead>\n",
       "    <tr style=\"text-align: right;\">\n",
       "      <th></th>\n",
       "      <th>InvoiceNo</th>\n",
       "      <th>InvoiceDate</th>\n",
       "      <th>CustomerID</th>\n",
       "      <th>Quantity</th>\n",
       "      <th>price_total</th>\n",
       "      <th>StockCode</th>\n",
       "    </tr>\n",
       "  </thead>\n",
       "  <tbody>\n",
       "    <tr>\n",
       "      <th>0</th>\n",
       "      <td>536365</td>\n",
       "      <td>2010-12-01</td>\n",
       "      <td>17850</td>\n",
       "      <td>40</td>\n",
       "      <td>139.12</td>\n",
       "      <td>7</td>\n",
       "    </tr>\n",
       "    <tr>\n",
       "      <th>1</th>\n",
       "      <td>536366</td>\n",
       "      <td>2010-12-01</td>\n",
       "      <td>17850</td>\n",
       "      <td>12</td>\n",
       "      <td>22.20</td>\n",
       "      <td>2</td>\n",
       "    </tr>\n",
       "    <tr>\n",
       "      <th>2</th>\n",
       "      <td>536367</td>\n",
       "      <td>2010-12-01</td>\n",
       "      <td>13047</td>\n",
       "      <td>83</td>\n",
       "      <td>278.73</td>\n",
       "      <td>12</td>\n",
       "    </tr>\n",
       "    <tr>\n",
       "      <th>3</th>\n",
       "      <td>536368</td>\n",
       "      <td>2010-12-01</td>\n",
       "      <td>13047</td>\n",
       "      <td>15</td>\n",
       "      <td>70.05</td>\n",
       "      <td>4</td>\n",
       "    </tr>\n",
       "    <tr>\n",
       "      <th>4</th>\n",
       "      <td>536369</td>\n",
       "      <td>2010-12-01</td>\n",
       "      <td>13047</td>\n",
       "      <td>3</td>\n",
       "      <td>17.85</td>\n",
       "      <td>1</td>\n",
       "    </tr>\n",
       "  </tbody>\n",
       "</table>\n",
       "</div>"
      ],
      "text/plain": [
       "  InvoiceNo InvoiceDate  CustomerID  Quantity  price_total  StockCode\n",
       "0    536365  2010-12-01       17850        40       139.12          7\n",
       "1    536366  2010-12-01       17850        12        22.20          2\n",
       "2    536367  2010-12-01       13047        83       278.73         12\n",
       "3    536368  2010-12-01       13047        15        70.05          4\n",
       "4    536369  2010-12-01       13047         3        17.85          1"
      ]
     },
     "execution_count": 2,
     "metadata": {},
     "output_type": "execute_result"
    }
   ],
   "source": [
    "# Cargar el archivo\n",
    "df = pd.read_excel('Retail_Invoices.xlsx', engine='openpyxl')\n",
    "\n",
    "# Mostrar el DataSet\n",
    "df.head()"
   ]
  },
  {
   "cell_type": "code",
   "execution_count": 3,
   "id": "0290c93a",
   "metadata": {},
   "outputs": [
    {
     "name": "stdout",
     "output_type": "stream",
     "text": [
      "<class 'pandas.core.frame.DataFrame'>\n",
      "RangeIndex: 22190 entries, 0 to 22189\n",
      "Data columns (total 6 columns):\n",
      " #   Column       Non-Null Count  Dtype         \n",
      "---  ------       --------------  -----         \n",
      " 0   InvoiceNo    22190 non-null  object        \n",
      " 1   InvoiceDate  22190 non-null  datetime64[ns]\n",
      " 2   CustomerID   22190 non-null  int64         \n",
      " 3   Quantity     22190 non-null  int64         \n",
      " 4   price_total  22190 non-null  float64       \n",
      " 5   StockCode    22190 non-null  int64         \n",
      "dtypes: datetime64[ns](1), float64(1), int64(3), object(1)\n",
      "memory usage: 1.0+ MB\n"
     ]
    }
   ],
   "source": [
    "# Información del dataset\n",
    "df.info()"
   ]
  },
  {
   "cell_type": "markdown",
   "id": "a03060bc",
   "metadata": {},
   "source": [
    "Con respecto a la información inicial del dataset se puede concluir:\n",
    "- La cantidad de columnas: 6\n",
    "- Cantidad de filas: 22190\n",
    "- EL tipo de datos corresponde: datetime64(1), float64(1), int64(3), object(1)\n",
    "- La data no cuenta con valores nulos"
   ]
  },
  {
   "cell_type": "code",
   "execution_count": 4,
   "id": "31235d5b",
   "metadata": {},
   "outputs": [
    {
     "data": {
      "text/plain": [
       "InvoiceNo      0\n",
       "InvoiceDate    0\n",
       "CustomerID     0\n",
       "Quantity       0\n",
       "price_total    0\n",
       "StockCode      0\n",
       "dtype: int64"
      ]
     },
     "execution_count": 4,
     "metadata": {},
     "output_type": "execute_result"
    }
   ],
   "source": [
    "# Valores nulos\n",
    "df.isnull().sum()"
   ]
  },
  {
   "cell_type": "markdown",
   "id": "b694e673",
   "metadata": {},
   "source": [
    "### Visualización inicial"
   ]
  },
  {
   "cell_type": "code",
   "execution_count": 5,
   "id": "76626d8a",
   "metadata": {},
   "outputs": [
    {
     "data": {
      "image/png": "[encoded data removed]",
      "text/plain": [
       "<Figure size 1000x800 with 2 Axes>"
      ]
     },
     "metadata": {},
     "output_type": "display_data"
    }
   ],
   "source": [
    "# Matriz de correlación\n",
    "plt.figure(figsize=(10, 8))\n",
    "sns.heatmap(df.corr(numeric_only=True), \n",
    "            annot=True,\n",
    "            fmt=\".2f\",\n",
    "            cmap=\"coolwarm\",\n",
    "            linewidths=0.5,\n",
    "            vmin=-1,\n",
    "            vmax=1)\n",
    "plt.xticks(rotation=45, ha='right')\n",
    "plt.yticks(rotation=0)\n",
    "plt.title(\"Matriz de Correlación\")\n",
    "plt.tight_layout()\n",
    "plt.show()"
   ]
  }
 ],
 "metadata": {
  "kernelspec": {
   "display_name": "proyecto",
   "language": "python",
   "name": "python3"
  },
  "language_info": {
   "codemirror_mode": {
    "name": "ipython",
    "version": 3
   },
   "file_extension": ".py",
   "mimetype": "text/x-python",
   "name": "python",
   "nbconvert_exporter": "python",
   "pygments_lexer": "ipython3",
   "version": "3.12.4"
  }
 },
 "nbformat": 4,
 "nbformat_minor": 5
}
